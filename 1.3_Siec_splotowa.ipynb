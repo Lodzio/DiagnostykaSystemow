{
 "cells": [
  {
   "cell_type": "code",
   "execution_count": null,
   "metadata": {},
   "outputs": [],
   "source": [
    "import tensorflow as tf\n",
    "from tensorflow import keras\n",
    "import numpy as np\n",
    "import os \n",
    "import pandas as pd\n",
    "import matplotlib.pyplot as plt\n",
    "import seaborn as sns"
   ]
  },
  {
   "cell_type": "code",
   "execution_count": null,
   "metadata": {},
   "outputs": [],
   "source": [
    "fashion_mnist = keras.datasets.fashion_mnist"
   ]
  },
  {
   "cell_type": "code",
   "execution_count": null,
   "metadata": {},
   "outputs": [],
   "source": [
    "(X_train_full, y_train_full), (X_test, y_test) = fashion_mnist.load_data()"
   ]
  },
  {
   "cell_type": "code",
   "execution_count": null,
   "metadata": {},
   "outputs": [],
   "source": [
    "X_train_full = X_train_full.reshape((60000, 28,28,1))\n",
    "X_train_full = X_train_full.astype('float32') / 255\n",
    "\n",
    "X_test = X_test.reshape((10000, 28, 28,1))\n",
    "X_test = X_test.astype('float32') / 255"
   ]
  },
  {
   "cell_type": "code",
   "execution_count": null,
   "metadata": {},
   "outputs": [],
   "source": [
    "X_valid, X_train = X_train_full[:5000], X_train_full[5000:] \n",
    "y_valid, y_train = y_train_full[:5000], y_train_full[5000:]"
   ]
  },
  {
   "cell_type": "code",
   "execution_count": null,
   "metadata": {},
   "outputs": [],
   "source": [
    "def create_model():\n",
    "  model = keras.models.Sequential(\n",
    "    [                              \n",
    "      keras.layers.Conv2D(64, (5,5), padding=\"same\", input_shape=(28,28,1)),\n",
    "      keras.layers.BatchNormalization(),\n",
    "      keras.layers.LeakyReLU(alpha=0.1),\n",
    "      keras.layers.MaxPooling2D(pool_size=(2,2),strides=(2,2)),\n",
    "      \n",
    "      keras.layers.Conv2D(128, (3,3), padding=\"same\"),\n",
    "      keras.layers.BatchNormalization(),\n",
    "      keras.layers.LeakyReLU(alpha=0.1),\n",
    "      keras.layers.Conv2D(64, (1,1), padding=\"same\"),\n",
    "      keras.layers.BatchNormalization(),\n",
    "      keras.layers.LeakyReLU(alpha=0.1),\n",
    "      keras.layers.Conv2D(128, (3,3), padding=\"same\"),\n",
    "      keras.layers.BatchNormalization(),\n",
    "      keras.layers.LeakyReLU(alpha=0.1),\n",
    "      keras.layers.MaxPooling2D((2,2)),\n",
    "\n",
    "      keras.layers.Conv2D(256, (3,3), padding=\"same\"),\n",
    "      keras.layers.BatchNormalization(),\n",
    "      keras.layers.LeakyReLU(alpha=0.1),\n",
    "      keras.layers.Conv2D(128, (1,1), padding=\"same\"),\n",
    "      keras.layers.BatchNormalization(),\n",
    "      keras.layers.LeakyReLU(alpha=0.1),\n",
    "      keras.layers.Conv2D(256, (3,3), padding=\"same\"),\n",
    "      keras.layers.BatchNormalization(),\n",
    "      keras.layers.LeakyReLU(alpha=0.1),\n",
    "      keras.layers.MaxPooling2D((2,2)),\n",
    "\n",
    "      keras.layers.Flatten(),\n",
    "      keras.layers.Dense(256),\n",
    "      keras.layers.LeakyReLU(alpha=0.1),\n",
    "      keras.layers.Dropout(0.6),\n",
    "\n",
    "      keras.layers.Dense(128),\n",
    "      keras.layers.LeakyReLU(alpha=0.1),\n",
    "      keras.layers.Dropout(0.6),\n",
    "\n",
    "      keras.layers.Dense(10, activation=\"softmax\")\n",
    "    ]                        \n",
    "  )\n",
    "  return model\n"
   ]
  },
  {
   "cell_type": "code",
   "execution_count": null,
   "metadata": {},
   "outputs": [],
   "source": [
    "model = create_model()\n",
    "model.summary()"
   ]
  },
  {
   "cell_type": "code",
   "execution_count": null,
   "metadata": {},
   "outputs": [],
   "source": [
    "model.compile(\n",
    "    optimizer=tf.keras.optimizers.Adam(learning_rate=1e-3),\n",
    "    loss='sparse_categorical_crossentropy',\n",
    "    metrics=['sparse_categorical_accuracy'])"
   ]
  },
  {
   "cell_type": "code",
   "execution_count": null,
   "metadata": {},
   "outputs": [],
   "source": [
    "history = model.fit(X_train, y_train,\n",
    "                    epochs=15,\n",
    "                    batch_size=32,\n",
    "                    validation_data=(X_valid, y_valid)) "
   ]
  },
  {
   "cell_type": "code",
   "execution_count": null,
   "metadata": {},
   "outputs": [],
   "source": [
    "pd.DataFrame(history.history).plot(figsize=(8,5))\n",
    "plt.grid(True)\n",
    "#plt.gca().set_ylim(0,1)\n",
    "#plt.savefig('CNN_1_15_epok.png')"
   ]
  },
  {
   "cell_type": "code",
   "execution_count": null,
   "metadata": {},
   "outputs": [],
   "source": [
    "test_loss, test_acc = model.evaluate(X_test.astype(np.float32), y_test.astype(np.float32))"
   ]
  },
  {
   "cell_type": "code",
   "execution_count": null,
   "metadata": {},
   "outputs": [],
   "source": [
    "test_acc"
   ]
  },
  {
   "cell_type": "code",
   "execution_count": null,
   "metadata": {},
   "outputs": [],
   "source": [
    "#keras.utils.plot_model(model, \"CNN_1.png\", show_shapes=True)"
   ]
  },
  {
   "cell_type": "code",
   "execution_count": null,
   "metadata": {},
   "outputs": [],
   "source": [
    "labels = ['T-shirt/top', 'Trouser', 'Pullover', 'Dress', 'Coat', 'Sandal', 'Shirt', 'Sneaker', 'Bag', 'Ankle boot']"
   ]
  },
  {
   "cell_type": "code",
   "execution_count": null,
   "metadata": {},
   "outputs": [],
   "source": [
    "predictions = model.predict(X_test)\n",
    "predictions = tf.argmax(predictions, axis=-1)\n",
    "cm = tf.math.confusion_matrix(y_test, predictions)\n",
    "cm = cm/cm.numpy().sum(axis=1)[:, tf.newaxis]"
   ]
  },
  {
   "cell_type": "code",
   "execution_count": null,
   "metadata": {},
   "outputs": [],
   "source": [
    "sns.heatmap(\n",
    "    cm, annot = True,\n",
    "    xticklabels=labels,\n",
    "    yticklabels=labels)\n",
    "plt.tight_layout()\n",
    "plt.xlabel('Predicted')\n",
    "plt.ylabel('True')\n",
    "figure = plt.gcf() # get current figure\n",
    "figure.set_size_inches(8, 6)\n",
    "# when saving, specify the DPI\n",
    "#plt.savefig(\"CNN_new_heatmap.png\", dpi = 100)"
   ]
  },
  {
   "cell_type": "code",
   "execution_count": null,
   "metadata": {},
   "outputs": [],
   "source": []
  }
 ],
 "metadata": {
  "kernelspec": {
   "display_name": "tensorflow-gpu",
   "language": "python",
   "name": "tensorflow-gpu"
  },
  "language_info": {
   "codemirror_mode": {
    "name": "ipython",
    "version": 3
   },
   "file_extension": ".py",
   "mimetype": "text/x-python",
   "name": "python",
   "nbconvert_exporter": "python",
   "pygments_lexer": "ipython3",
   "version": "3.6.12"
  }
 },
 "nbformat": 4,
 "nbformat_minor": 4
}
